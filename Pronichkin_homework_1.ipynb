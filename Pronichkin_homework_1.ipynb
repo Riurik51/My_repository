{
 "cells": [
  {
   "cell_type": "markdown",
   "metadata": {},
   "source": [
    "Задание № 1"
   ]
  },
  {
   "cell_type": "code",
   "execution_count": 1,
   "metadata": {
    "scrolled": true
   },
   "outputs": [],
   "source": [
    "def revers_no_duplicate(Array):\n",
    "    Answer = [Array[i] for i in range(-1, -len(Array), -1) if Array[i] != Array[i - 1]]\n",
    "    Answer.append(Array[0])\n",
    "    return Answer"
   ]
  },
  {
   "cell_type": "code",
   "execution_count": 2,
   "metadata": {},
   "outputs": [
    {
     "name": "stdout",
     "output_type": "stream",
     "text": [
      "[5, 4, 2, 3, 2, 1]\n"
     ]
    }
   ],
   "source": [
    "Array = [1, 1, 2, 3, 3, 2, 2, 4, 5]\n",
    "print(revers_no_duplicate(Array))"
   ]
  },
  {
   "cell_type": "code",
   "execution_count": 3,
   "metadata": {
    "scrolled": true
   },
   "outputs": [
    {
     "name": "stdout",
     "output_type": "stream",
     "text": [
      "[1, 4, 3, 1, 2, 1]\n"
     ]
    }
   ],
   "source": [
    "Array = [1, 1, 2, 1, 1, 3, 3, 4, 4, 1, 1]\n",
    "print(revers_no_duplicate(Array))"
   ]
  },
  {
   "cell_type": "markdown",
   "metadata": {},
   "source": [
    "Задание № 2"
   ]
  },
  {
   "cell_type": "code",
   "execution_count": 4,
   "metadata": {},
   "outputs": [],
   "source": [
    "def matrix_sum(A, B):\n",
    "    Answer = [\n",
    "        [A[i][j] + B[i][j] for j in range(len(A[i]))] \n",
    "        for i in range(len(A))\n",
    "    ]\n",
    "    return Answer"
   ]
  },
  {
   "cell_type": "code",
   "execution_count": 5,
   "metadata": {
    "scrolled": false
   },
   "outputs": [
    {
     "name": "stdout",
     "output_type": "stream",
     "text": [
      "[[1, 1], [1, 1]]\n"
     ]
    }
   ],
   "source": [
    "A = [\n",
    "    [1, 0],\n",
    "    [0, 1]\n",
    "]\n",
    "B = [\n",
    "    [0, 1],\n",
    "    [1, 0]\n",
    "]\n",
    "print(matrix_sum(A, B))"
   ]
  },
  {
   "cell_type": "code",
   "execution_count": 6,
   "metadata": {},
   "outputs": [
    {
     "name": "stdout",
     "output_type": "stream",
     "text": [
      "[[7, 7, 7], [7, 7, 7]]\n"
     ]
    }
   ],
   "source": [
    "A = [\n",
    "    [1, 2, 3],\n",
    "    [4, 5, 6]\n",
    "]\n",
    "B = [\n",
    "    [6, 5, 4],\n",
    "    [3, 2, 1]\n",
    "]\n",
    "print(matrix_sum(A, B))"
   ]
  },
  {
   "cell_type": "code",
   "execution_count": 7,
   "metadata": {},
   "outputs": [],
   "source": [
    "def matrix_mult_number(A, a):\n",
    "    Answer = [\n",
    "        [a * A[i][j] for j in range(len(A[i]))] \n",
    "              for i in range(len(A))\n",
    "    ]\n",
    "    return Answer"
   ]
  },
  {
   "cell_type": "code",
   "execution_count": 8,
   "metadata": {},
   "outputs": [
    {
     "name": "stdout",
     "output_type": "stream",
     "text": [
      "[[5, 0], [0, 5]]\n"
     ]
    }
   ],
   "source": [
    "A = [\n",
    "    [1, 0],\n",
    "    [0, 1]\n",
    "]\n",
    "a = 5\n",
    "print(matrix_mult_number(A, a))"
   ]
  },
  {
   "cell_type": "code",
   "execution_count": 9,
   "metadata": {
    "scrolled": true
   },
   "outputs": [
    {
     "name": "stdout",
     "output_type": "stream",
     "text": [
      "[[10, 10], [10, 10], [10, 10], [10, 10]]\n"
     ]
    }
   ],
   "source": [
    "A = [\n",
    "    [1, 1],\n",
    "    [1, 1],\n",
    "    [1, 1],\n",
    "    [1, 1]\n",
    "]\n",
    "a = 10\n",
    "print(matrix_mult_number(A, a))"
   ]
  },
  {
   "cell_type": "code",
   "execution_count": 10,
   "metadata": {},
   "outputs": [],
   "source": [
    "def matrix_mult_matrix(A, B):\n",
    "    Answer = [\n",
    "        [sum([A[i][k] * B[k][j] for k in range(len(A[i]))]) \n",
    "         for j in range(len(B[i]))] \n",
    "        for i in range(len(A))\n",
    "    ]\n",
    "    return Answer"
   ]
  },
  {
   "cell_type": "code",
   "execution_count": 11,
   "metadata": {},
   "outputs": [
    {
     "name": "stdout",
     "output_type": "stream",
     "text": [
      "[[1, 0], [0, 1]]\n"
     ]
    }
   ],
   "source": [
    "A = [\n",
    "    [0, 1],\n",
    "    [1, 0]\n",
    "]\n",
    "B = [\n",
    "    [0, 1],\n",
    "    [1, 0]\n",
    "]\n",
    "print(matrix_mult_matrix(A, B))"
   ]
  },
  {
   "cell_type": "code",
   "execution_count": 12,
   "metadata": {},
   "outputs": [
    {
     "name": "stdout",
     "output_type": "stream",
     "text": [
      "[[-16, 16], [-35, 15]]\n"
     ]
    }
   ],
   "source": [
    "A = [\n",
    "    [2, -3, 1],\n",
    "    [5, 4, -2]\n",
    "]\n",
    "B = [\n",
    "    [-7, 5],\n",
    "    [2, -1],\n",
    "    [4, 3]\n",
    "]\n",
    "print(matrix_mult_matrix(A, B))"
   ]
  },
  {
   "cell_type": "markdown",
   "metadata": {},
   "source": [
    "Задание №3"
   ]
  },
  {
   "cell_type": "code",
   "execution_count": 13,
   "metadata": {},
   "outputs": [],
   "source": [
    "def merge(A, B):\n",
    "    C = []\n",
    "    while len(A) != 0 and len(B) != 0:\n",
    "        if A[0] < B[0]:\n",
    "            C.append(A.pop(0))\n",
    "        else:\n",
    "            C.append(B.pop(0))\n",
    "    if len(A) == 0:\n",
    "        C += B\n",
    "    else:\n",
    "        C += A\n",
    "    return C\n",
    "def merge_sort(C):\n",
    "    n  = len(C)\n",
    "    size_iterator = 1\n",
    "    while size_iterator < n:\n",
    "        iterator = 0\n",
    "        while iterator < n - size_iterator:\n",
    "            A = C[iterator:iterator + size_iterator]\n",
    "            if iterator + 2 * size_iterator < n:\n",
    "                B = C[iterator + size_iterator:iterator + 2 * size_iterator]\n",
    "            else:\n",
    "                B = C[iterator + size_iterator:]\n",
    "            if iterator + 2 * size_iterator < n:\n",
    "                C[iterator:iterator + 2 * size_iterator] = merge(A, B)\n",
    "            else:\n",
    "                C[iterator:] = merge(A, B)\n",
    "            iterator += 2 * size_iterator\n",
    "        size_iterator *= 2\n",
    "    return C"
   ]
  },
  {
   "cell_type": "code",
   "execution_count": 14,
   "metadata": {
    "scrolled": true
   },
   "outputs": [
    {
     "name": "stdout",
     "output_type": "stream",
     "text": [
      "[0, 1, 2, 3, 4, 5, 6]\n"
     ]
    }
   ],
   "source": [
    "A = [6, 5, 4, 3, 2, 1, 0]\n",
    "print(merge_sort(A))"
   ]
  },
  {
   "cell_type": "code",
   "execution_count": 15,
   "metadata": {
    "scrolled": true
   },
   "outputs": [
    {
     "name": "stdout",
     "output_type": "stream",
     "text": [
      "[1, 1, 2, 2, 3, 4, 5, 5]\n"
     ]
    }
   ],
   "source": [
    "A = [1, 5, 3, 1, 2, 4, 2, 5]\n",
    "print(merge_sort(A))"
   ]
  },
  {
   "cell_type": "markdown",
   "metadata": {},
   "source": [
    "Задание №4"
   ]
  },
  {
   "cell_type": "code",
   "execution_count": 16,
   "metadata": {},
   "outputs": [],
   "source": [
    "def sequence_type(A):\n",
    "    inc = True\n",
    "    des = True\n",
    "    for i in range(1,len(A)):\n",
    "        if A[i] >= A[i - 1]:\n",
    "            des = False\n",
    "        if A[i] <= A[i - 1]:\n",
    "            inc = False\n",
    "    if inc == False and des == False:\n",
    "        return 'Random sequence'\n",
    "    if inc == True:\n",
    "        return 'Increasing sequence (A[i] > A[i - 1])'        \n",
    "    return 'Descending sequence (A[i] < A[i - 1])'\n"
   ]
  },
  {
   "cell_type": "code",
   "execution_count": 17,
   "metadata": {
    "scrolled": false
   },
   "outputs": [
    {
     "name": "stdout",
     "output_type": "stream",
     "text": [
      "Increasing sequence (A[i] > A[i - 1])\n"
     ]
    }
   ],
   "source": [
    "A = [0, 1, 2, 3, 4, 5, 6]\n",
    "print(sequence_type(A))"
   ]
  },
  {
   "cell_type": "code",
   "execution_count": 18,
   "metadata": {
    "scrolled": true
   },
   "outputs": [
    {
     "name": "stdout",
     "output_type": "stream",
     "text": [
      "Descending sequence (A[i] < A[i - 1])\n"
     ]
    }
   ],
   "source": [
    "A = [6, 5, 4, 3, 2, 1, 0]\n",
    "print(sequence_type(A))"
   ]
  },
  {
   "cell_type": "code",
   "execution_count": 19,
   "metadata": {},
   "outputs": [
    {
     "name": "stdout",
     "output_type": "stream",
     "text": [
      "Random sequence\n"
     ]
    }
   ],
   "source": [
    "A = [0, 1, 0, 1, 0, 1, 0]\n",
    "print(sequence_type(A))"
   ]
  },
  {
   "cell_type": "markdown",
   "metadata": {},
   "source": [
    "Задание №5"
   ]
  },
  {
   "cell_type": "code",
   "execution_count": 20,
   "metadata": {},
   "outputs": [],
   "source": [
    "def max_i_min_j(A):\n",
    "    for i in range(len(A)):\n",
    "        MAX = max(A[i])\n",
    "        list_of_max = [j for j in range(len(A[i])) if A[i][j] == MAX]\n",
    "        for j in list_of_max:\n",
    "            MIN = True\n",
    "            for k in range(len(A)):\n",
    "                if A[i][j] > A[k][j]:\n",
    "                    MIN = False\n",
    "                    break\n",
    "            if MIN == True:\n",
    "                return (i, j)\n",
    "    return 'No such element'"
   ]
  },
  {
   "cell_type": "code",
   "execution_count": 21,
   "metadata": {
    "scrolled": false
   },
   "outputs": [
    {
     "name": "stdout",
     "output_type": "stream",
     "text": [
      "No such element\n"
     ]
    }
   ],
   "source": [
    "A = [\n",
    "    [0, 1],\n",
    "    [1, 0]\n",
    "]\n",
    "print(max_i_min_j(A))"
   ]
  },
  {
   "cell_type": "code",
   "execution_count": 22,
   "metadata": {},
   "outputs": [
    {
     "name": "stdout",
     "output_type": "stream",
     "text": [
      "(2, 0)\n"
     ]
    }
   ],
   "source": [
    "A = [\n",
    "    [5, 6, 7],\n",
    "    [4, 3, 2],\n",
    "    [3, 2, 1]\n",
    "]\n",
    "print(max_i_min_j(A))"
   ]
  },
  {
   "cell_type": "markdown",
   "metadata": {},
   "source": [
    "Задание №6"
   ]
  },
  {
   "cell_type": "code",
   "execution_count": 23,
   "metadata": {},
   "outputs": [],
   "source": [
    "def chess(x1, y1, x2, y2):\n",
    "    if x1 == x2 or y1 == y2:\n",
    "        return 'Yes'\n",
    "    return 'No'"
   ]
  },
  {
   "cell_type": "code",
   "execution_count": 24,
   "metadata": {},
   "outputs": [
    {
     "name": "stdout",
     "output_type": "stream",
     "text": [
      "Yes\n"
     ]
    }
   ],
   "source": [
    "x1 = 1 \n",
    "y1 = 1\n",
    "x2 = 1\n",
    "y2 = 5\n",
    "print(chess(x1, y1, x2, y2))"
   ]
  },
  {
   "cell_type": "code",
   "execution_count": 25,
   "metadata": {},
   "outputs": [
    {
     "name": "stdout",
     "output_type": "stream",
     "text": [
      "No\n"
     ]
    }
   ],
   "source": [
    "x1 = 1 \n",
    "y1 = 1\n",
    "x2 = 3\n",
    "y2 = 3\n",
    "print(chess(x1, y1, x2, y2))"
   ]
  }
 ],
 "metadata": {
  "kernelspec": {
   "display_name": "Python 3",
   "language": "python",
   "name": "python3"
  },
  "language_info": {
   "codemirror_mode": {
    "name": "ipython",
    "version": 3
   },
   "file_extension": ".py",
   "mimetype": "text/x-python",
   "name": "python",
   "nbconvert_exporter": "python",
   "pygments_lexer": "ipython3",
   "version": "3.7.3"
  }
 },
 "nbformat": 4,
 "nbformat_minor": 2
}
